{
 "cells": [
  {
   "cell_type": "markdown",
   "metadata": {},
   "source": [
    "## Introduction\n",
    " \n",
    "control return is a short cut \n",
    "\n",
    "print displays a message\n",
    "\n",
    "the # is for comments \n",
    "\n",
    "shift return opens a new code block\n",
    "\n",
    "a string is a sequence of characters \n",
    "\n",
    "integer are data type\n",
    "\n",
    "you can use a number at the end of a variable not at the biggining  \n"
   ]
  },
  {
   "cell_type": "code",
   "execution_count": null,
   "metadata": {},
   "outputs": [],
   "source": [
    "# my first code! \n",
    "print (\"hello world\")\n",
    "\n",
    "\n",
    "print (\"hi brett!\\nhow are you?\")\n",
    "print (\"\"\"the christmas tree \n",
    "print('Hi')\n",
    "is bright\"\"\")\n",
    "# using double and single quotes\n",
    "\n",
    "print ('here comes santa \"' + \"clause '\")\n",
    "print (\"can i print a \\ on the screen \")"
   ]
  },
  {
   "cell_type": "code",
   "execution_count": null,
   "metadata": {},
   "outputs": [],
   "source": [
    "# my first poem!\n",
    "print (\" there once was a movie star icon \\n who prefered to sleep with the light on \\n they learned how to code \\n a device that sure glowed \\n and lit up the night using python!\")"
   ]
  },
  {
   "cell_type": "code",
   "execution_count": null,
   "metadata": {},
   "outputs": [],
   "source": [
    "# my variables\n",
    "age = input (\"what is your age?\")\n",
    "print (\"my age is: \" + age)\n"
   ]
  },
  {
   "cell_type": "code",
   "execution_count": null,
   "metadata": {},
   "outputs": [],
   "source": [
    "# always put quotes if you want space\n",
    "firstName = input (\"what is your first name?\")\n",
    "lastName = input (\"what is your last name?\")\n",
    "birthCity = input (\"where were you born?\")\n",
    "dateOfBirth = input (\"what is your date of birth?\")\n",
    "eyeColor = input (\"what is your eye color?\")\n",
    "\n",
    "print (\"My name is \" + firstName.capitalize() + \" \" + lastName.capitalize() + \". I was born in \" + birthCity.capitalize() + \" on \" + dateOfBirth + \".\\nI have \" + eyeColor.lower() + \" eyes.\")"
   ]
  },
  {
   "cell_type": "code",
   "execution_count": null,
   "metadata": {},
   "outputs": [],
   "source": [
    "# Get user input to create a story\n",
    "firstName = input (\"what is your name?\")\n",
    "hubbyName = input (\"what is your husband's name?\")\n",
    "kidsNumb = input (\"how many kids do you have?\")\n",
    "kidsName = input (\"what is your kids name?\")\n",
    "\n",
    "# Output the story and fix the variables\n",
    "print (\"My name is \" + firstName.capitalize() + \". my husband's name is \" + hubbyName.capitalize() + \" we have \" + kidsNumb + \".\\nour baby's name is \" + kidsName.capitalize())"
   ]
  },
  {
   "cell_type": "code",
   "execution_count": null,
   "metadata": {},
   "outputs": [],
   "source": [
    "# Store a string\n",
    "message = \"hello world!\"\n",
    "\n",
    "# Check various string methods\n",
    "print(message.count(\"o\"))\n",
    "print(message.find(\"o\"))\n",
    "print(message.replace(\"o\", \"oOooOo\"))\n",
    "print(message.capitalize())\n",
    "print(message[0])\n",
    "print(message[-1])\n",
    "print(message.upper().replace(\"!\", \"!!!\"))\n"
   ]
  },
  {
   "cell_type": "code",
   "execution_count": null,
   "metadata": {},
   "outputs": [],
   "source": [
    "# storing an int\n",
    "area = 0\n",
    "width = 20\n",
    "height = 5 \n",
    "\n",
    "# calculate the area of a triangle\n",
    "area = width * height /2\n",
    "print (area)"
   ]
  },
  {
   "cell_type": "code",
   "execution_count": null,
   "metadata": {},
   "outputs": [],
   "source": [
    "# Retrieve the user's salary and bonus\n",
    "salary = input (\"please enter your salary\")\n",
    "bonus = input (\"please enter your bonus\")\n",
    "\n",
    "# Change the user's input to numbers and add them\n",
    "paycheckAmount = int(salary) + int(bonus)\n",
    "\n",
    "# Output the final amount\n",
    "print (paycheckAmount)\n"
   ]
  },
  {
   "cell_type": "code",
   "execution_count": 2,
   "metadata": {},
   "outputs": [
    {
     "name": "stdout",
     "output_type": "stream",
     "text": [
      "2022-11-18\n",
      "11\n",
      "2022\n",
      "18 Nov, 22\n"
     ]
    }
   ],
   "source": [
    "# Required library to work with dates\n",
    "import datetime\n",
    "\n",
    "# Get today's date\n",
    "currentDate = datetime.date.today()\n",
    "\n",
    "# Print the date in various ways\n",
    "print (currentDate)\n",
    "print (currentDate.month)\n",
    "print (currentDate.year)\n",
    "print (currentDate.strftime(\"%d %b, %y\"))"
   ]
  },
  {
   "cell_type": "code",
   "execution_count": null,
   "metadata": {},
   "outputs": [],
   "source": [
    "# Required library to work with dates\n",
    "from datetime import datetime\n",
    "\n",
    "# Gather the deadline from the user\n",
    "dateInput = input (\"What is the deadline for your project (MM/DD/YYYY)?\")\n",
    "\n",
    "# Change user input from a string to a datetime\n",
    "deadline = datetime.strptime(dateInput, \"%m/%d/%Y\")\n",
    "\n",
    "# Figure out the difference between the deadline and today\n",
    "timeLeft = deadline - datetime.now()\n",
    "\n",
    "# Adding 1 to account for today\n",
    "totalDays = timeLeft.days + 1\n",
    "\n",
    "# Calculate how many weeks and days are left\n",
    "weeksLeft = int(totalDays / 7)\n",
    "daysLeft = int(totalDays % 7)\n",
    "\n",
    "# Display the results!\n",
    "print(\"Project Deadline: \" + dateInput + \"\\nYou have \" + str(weeksLeft) + \" week(s) and \" + str(daysLeft) + \" day(s)!\")\n"
   ]
  },
  {
   "cell_type": "code",
   "execution_count": null,
   "metadata": {},
   "outputs": [],
   "source": [
    "# CODING PROBLEM:\n",
    "# Create this story implementing a user's input to fill in the blanks, the parentheses are what should be asked or fill in from a previous answer\n",
    "\n",
    "import datetime\n",
    "\n",
    "firstName = input(\"What is your first name?\")\n",
    "wish = input(\"How many wishes do you want?\")\n",
    "currentDate = datetime.date.today()\n",
    "age = input(\"Pick a number under 100.\")\n",
    "salary = input(\"Choose a number between 1 and 1000000.\")\n",
    "\n",
    "print (\n",
    "    \"Once upon a time, \" + firstName.capitalize() + \" was given \" + wish + \" wishes from a wandering genie.\\n\"\n",
    "    \"After hearing how many wishes \" + firstName.capitalize() + \" asked for, the genie struck their finger down and said 'I will decide for you.'\\n\"\n",
    "    \"On this day, \" + currentDate.strftime(\"%B %d, %Y\" ) + \", you shall be \" + age + \" years of age and possess \" + salary + \" dollars.\\n\"\n",
    "    \"'Now, have a good day,' thundered the genie. \" + firstName.capitalize() + \" was shocked and confused as they pondered about their new life.\"\n",
    ") \n"
   ]
  },
  {
   "cell_type": "code",
   "execution_count": null,
   "metadata": {},
   "outputs": [],
   "source": [
    "# https://www.geeksforgeeks.org/draw-heart-using-turtle-graphics-in-python/\n",
    "\n",
    "# Import turtle package\n",
    "import turtle\n",
    "\n",
    "# Creating a turtle object(pen)\n",
    "pen = turtle.Turtle()\n",
    "\n",
    "# Defining a method to draw curve\n",
    "def curve():\n",
    "\tfor i in range(200):\n",
    "\n",
    "\t\t# Defining step by step curve motion\n",
    "\t\tpen.right(1)\n",
    "\t\tpen.forward(1)\n",
    "\n",
    "# Defining method to draw a full heart\n",
    "def heart():\n",
    "\n",
    "\t# Set the fill color to red\n",
    "\tpen.fillcolor('red')\n",
    "\n",
    "\t# Start filling the color\n",
    "\tpen.begin_fill()\n",
    "\n",
    "\t# Draw the left line\n",
    "\tpen.left(140)\n",
    "\tpen.forward(113)\n",
    "\n",
    "\t# Draw the left curve\n",
    "\tcurve()\n",
    "\tpen.left(120)\n",
    "\n",
    "\t# Draw the right curve\n",
    "\tcurve()\n",
    "\n",
    "\t# Draw the right line\n",
    "\tpen.forward(112)\n",
    "\n",
    "\t# Ending the filling of the color\n",
    "\tpen.end_fill()\n",
    "\n",
    "# Defining method to write text\n",
    "def txt():\n",
    "\n",
    "\t# Move turtle to air\n",
    "\tpen.up()\n",
    "\n",
    "\t# Move turtle to a given position\n",
    "\tpen.setpos(-68, 95)\n",
    "\n",
    "\t# Move the turtle to the ground\n",
    "\tpen.down()\n",
    "\n",
    "\t# Set the text color to blue\n",
    "\tpen.color('blue')\n",
    "\n",
    "\t# Write the specified text in\n",
    "\t# specified font style and size\n",
    "\tpen.write(\"I Love Python\", font=(\n",
    "\t\"Verdana\", 12, \"bold\"))\n",
    "\n",
    "\n",
    "# Draw a heart\n",
    "heart()\n",
    "\n",
    "# Write text\n",
    "txt()\n",
    "\n",
    "# To hide turtle\n",
    "pen.ht()\n",
    "\n",
    "turtle.done()\n"
   ]
  }
 ],
 "metadata": {
  "kernelspec": {
   "display_name": "Python 3.9.13 ('base')",
   "language": "python",
   "name": "python3"
  },
  "language_info": {
   "codemirror_mode": {
    "name": "ipython",
    "version": 3
   },
   "file_extension": ".py",
   "mimetype": "text/x-python",
   "name": "python",
   "nbconvert_exporter": "python",
   "pygments_lexer": "ipython3",
   "version": "3.9.13"
  },
  "orig_nbformat": 4,
  "vscode": {
   "interpreter": {
    "hash": "f10c8b6b3442675f2168ea5ab9cc17f55f367a49f8a25aae955075d49e3dd3bf"
   }
  }
 },
 "nbformat": 4,
 "nbformat_minor": 2
}
