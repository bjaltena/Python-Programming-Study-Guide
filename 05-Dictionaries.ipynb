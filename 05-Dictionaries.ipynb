{
 "cells": [
  {
   "cell_type": "markdown",
   "metadata": {},
   "source": [
    "## Dictionaries\n",
    "\n",
    "Dictionaries are used to store data values in key:value pairs. \n",
    "\n",
    "A dictionary is a collection which is ordered*, changeable and do not allow duplicates.\n",
    "\n",
    "Dictionary items are presented in key:value pairs, and can be referred to by using the key name i.e. dict[\"item1\"] .\n",
    "\n",
    "\n"
   ]
  },
  {
   "cell_type": "code",
   "execution_count": 21,
   "metadata": {},
   "outputs": [
    {
     "name": "stdout",
     "output_type": "stream",
     "text": [
      "My dictionary: {'brand': 'Ford', 'model': 'Mustang', 'electric': False, 'year': 1964, 'colors': ['red', 'white', 'blue']}\n",
      "My dictionary length: 5\n",
      "\n",
      "My car was a red and white 1964 Ford Mustang.\n",
      "It was not electric.\n",
      "\n",
      "My new car was a blue 2020 Tesla Series X.\n",
      "It was electric.\n"
     ]
    }
   ],
   "source": [
    "# Define my dictionary for my car\n",
    "car = {\n",
    "  \"brand\": \"Ford\",\n",
    "  \"model\": \"Mustang\",\n",
    "  \"electric\": False,\n",
    "  \"year\": 1964,\n",
    "  \"colors\": [\"red\", \"white\", \"blue\"]\n",
    "}\n",
    "\n",
    "# Display the details about the dictionary\n",
    "print(\"My dictionary: \" + str(car))\n",
    "print(\"My dictionary length: \" + str(len(car)) + \"\\n\")\n",
    "\n",
    "# Display the car's info\n",
    "print(f\"My car was a {car['colors'][0]} and {car['colors'][1]} {car['year']} {car['brand'].capitalize()} {car['model']}.\")\n",
    "print(\"It was \" + (\"not \" if not car['electric'] else \"\") + \"electric.\\n\")\n",
    "\n",
    "# Change the dictionary to match my new car's info\n",
    "car[\"brand\"] = \"tesla\"\n",
    "car[\"model\"] = \"Series X\"\n",
    "car[\"electric\"] = True\n",
    "car[\"year\"] = 2020\n",
    "\n",
    "# Display the new car's info\n",
    "print(f\"My new car was a {car['colors'][2]} {car['year']} {car['brand'].capitalize()} {car['model']}.\")\n",
    "print(\"It was \" + (\"not \" if not car['electric'] else \"\") + \"electric.\")\n",
    "\n"
   ]
  }
 ],
 "metadata": {
  "kernelspec": {
   "display_name": "Python 3.9.13 ('base')",
   "language": "python",
   "name": "python3"
  },
  "language_info": {
   "codemirror_mode": {
    "name": "ipython",
    "version": 3
   },
   "file_extension": ".py",
   "mimetype": "text/x-python",
   "name": "python",
   "nbconvert_exporter": "python",
   "pygments_lexer": "ipython3",
   "version": "3.9.13"
  },
  "orig_nbformat": 4,
  "vscode": {
   "interpreter": {
    "hash": "f10c8b6b3442675f2168ea5ab9cc17f55f367a49f8a25aae955075d49e3dd3bf"
   }
  }
 },
 "nbformat": 4,
 "nbformat_minor": 2
}
