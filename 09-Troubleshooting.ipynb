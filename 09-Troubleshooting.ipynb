{
 "cells": [
  {
   "cell_type": "markdown",
   "metadata": {},
   "source": [
    "## TROUBLESHOOTING\n",
    "\n",
    "**Syntax errors** are highlighted with a red squiggly line. The same as MS word highlighting spelling mistake.\n",
    "\n",
    "**Logic errors** are syntactically correct, but they mean that your program doesn’t do what you wanted it to do. Logic errors can be harder to find, you would often have to step through code with the debugger.\n",
    "\n",
    "**Runtime errors** occur when the code works but something out of the ordinary crashes the code.\n",
    "\n",
    "A **try/ exception block** involves trying a bit of code that may cause an error and if it fails, the exception is what to do in that event.\n",
    "\n",
    "If you want to **see or display what error happened** you can use the sys.exc_info() to find it you will need to import the sys library."
   ]
  },
  {
   "cell_type": "code",
   "execution_count": 1,
   "metadata": {},
   "outputs": [
    {
     "name": "stdout",
     "output_type": "stream",
     "text": [
      "An error occurred! Error: division by zero\n"
     ]
    }
   ],
   "source": [
    "# Start a try/ exception block to capture any potential errors\n",
    "try : \n",
    "    # We are purposefully causing a ZeroDivisionError exception\n",
    "    result = 10 / 0\n",
    "\n",
    "# Catch all exceptions here\n",
    "except Exception as e :\n",
    "    print(f\"An error occurred! Error: {str(e)}\")\n"
   ]
  },
  {
   "cell_type": "code",
   "execution_count": 2,
   "metadata": {},
   "outputs": [
    {
     "name": "stdout",
     "output_type": "stream",
     "text": [
      "15 / 4.5 = 3.33\n",
      "Have a great day!\n"
     ]
    }
   ],
   "source": [
    "# Import the required library\n",
    "import sys \n",
    "\n",
    "# Continue looping until valid input is given\n",
    "while True:\n",
    "    try: \n",
    "        # Gather numbers from the user\n",
    "        first = input(\"enter the first number \")\n",
    "        second = input(\"enter the second number \")\n",
    "\n",
    "        # Tranform the input from strings to floats\n",
    "        firstNumber= float(first)\n",
    "        secondNumber = float(second)\n",
    "\n",
    "    # An error occurred\n",
    "    except Exception as e:\n",
    "        # Display the error\n",
    "        print(\"Received an error, please enter floats as input. \\nError: \" + str(e) + \"\\n\")\n",
    "\n",
    "        # Try the while loop again\n",
    "        continue\n",
    "\n",
    "    # An error did not occur to reach here, break out of the while loop\n",
    "    break\n",
    "\n",
    "\n",
    "\n",
    "# Start a try/ exception block to capture any potential errors\n",
    "try : \n",
    "    # Divide the numbers\n",
    "    result = firstNumber / secondNumber\n",
    "\n",
    "    # Display the output\n",
    "    print (first + \" / \" + second + f\" = {result:.2f}\")\n",
    "\n",
    "# If the user attempted to divide by 0, go here\n",
    "except ZeroDivisionError :\n",
    "    print(first + \" / \" + second + \" = Infinity!\")\n",
    "\n",
    "# If something else went wrong, go here\n",
    "except:\n",
    "    error = sys.exc_info() [0]\n",
    "    print(\"Somthing went wrong. Error: \" + str(error))\n",
    "\n",
    "# No matter what happened, go here\n",
    "finally:\n",
    "    print(\"Have a great day!\")"
   ]
  }
 ],
 "metadata": {
  "kernelspec": {
   "display_name": "Python 3.9.13 ('base')",
   "language": "python",
   "name": "python3"
  },
  "language_info": {
   "codemirror_mode": {
    "name": "ipython",
    "version": 3
   },
   "file_extension": ".py",
   "mimetype": "text/x-python",
   "name": "python",
   "nbconvert_exporter": "python",
   "pygments_lexer": "ipython3",
   "version": "3.9.13"
  },
  "orig_nbformat": 4,
  "vscode": {
   "interpreter": {
    "hash": "f10c8b6b3442675f2168ea5ab9cc17f55f367a49f8a25aae955075d49e3dd3bf"
   }
  }
 },
 "nbformat": 4,
 "nbformat_minor": 2
}
