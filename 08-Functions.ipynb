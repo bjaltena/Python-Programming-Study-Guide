{
 "cells": [
  {
   "cell_type": "markdown",
   "metadata": {},
   "source": [
    "## FUNCTIONS\n",
    "A function is a block of code which only runs when it is called. \n",
    "\n",
    "You can pass data, known as parameters, into a function.\n",
    "\n",
    "A function can return data as a result. The return datatype can be specified with an arrow after the function definition. \n",
    "\n",
    "<br>\n",
    "\n",
    "### Arguments\n",
    "Information can be passed into functions as arguments. Arguments and Parameters are the **same** thing.\n",
    "\n",
    "Arguments are specified after the function name, inside the parentheses. \n",
    "\n",
    "You can add as many arguments as you want, just separate them with a comma. \n",
    "\n",
    "The argument datatype can also be specified.\n",
    "\n",
    "#### Default Parameter Value\n",
    "The following example shows how to use a default parameter value.\n",
    "\n",
    "If we call the function without an argument, it uses the default value if it has been defined.\n",
    "\n",
    "<br>\n",
    "\n",
    "#### Arbitrary Arguments, *args\n",
    "If you do not know how many arguments that will be passed into your function, add a * before the parameter name in the function definition.\n",
    "\n",
    "This way the function will receive a tuple of arguments, and can access the items accordingly\n",
    "\n",
    "<br>\n",
    "\n",
    "#### Arbitrary Keyword Arguments, **kwargs\n",
    "If you do not know how many keyword arguments that will be passed into your function, add two asterisk: ** before the parameter name in the function definition.\n",
    "\n",
    "This way the function will receive a dictionary of arguments, and can access the items accordingly\n",
    "\n"
   ]
  },
  {
   "cell_type": "code",
   "execution_count": 1,
   "metadata": {},
   "outputs": [
    {
     "name": "stdout",
     "output_type": "stream",
     "text": [
      "Hello from a function\n"
     ]
    }
   ],
   "source": [
    "# Example of a function\n",
    "def my_function() -> None:\n",
    "  print(\"Hello from a function\")\n",
    "\n",
    "# Calling the function\n",
    "my_function()\n"
   ]
  },
  {
   "cell_type": "code",
   "execution_count": 2,
   "metadata": {},
   "outputs": [
    {
     "name": "stdout",
     "output_type": "stream",
     "text": [
      "Elisabeth Altena is married to Brett Altena\n"
     ]
    }
   ],
   "source": [
    "# The following example has a function with two arguments (firstName and lastName) and return the full name as a string.\n",
    "def get_full_name(firstName: str, lastName: str) -> str:\n",
    "    \"\"\"\n",
    "    This function combines first name and last name\n",
    "\n",
    "    :param firstName: someone's first name\n",
    "    :param lastName: someone's last name\n",
    "\n",
    "    :return: someone's full name\n",
    "    \"\"\"\n",
    "    return firstName + \" \" + lastName\n",
    "\n",
    "wife = get_full_name(firstName=\"Elisabeth\",lastName=\"Altena\")\n",
    "print(wife + \" is married to \" + get_full_name(firstName=\"Brett\", lastName=\"Altena\"))"
   ]
  },
  {
   "cell_type": "code",
   "execution_count": 3,
   "metadata": {},
   "outputs": [
    {
     "name": "stdout",
     "output_type": "stream",
     "text": [
      "I am from Sweden\n",
      "I am from India\n",
      "I am from Norway\n",
      "I am from Brazil\n"
     ]
    }
   ],
   "source": [
    "# The following example has a function with an argument that has a default value\n",
    "def print_my_country(country: str = \"Norway\") -> None:\n",
    "    \"\"\"\n",
    "    This function prints the country where you are from\n",
    "\n",
    "    :param country: the name of a country\n",
    "    \"\"\"\n",
    "    print(\"I am from \" + country)\n",
    "\n",
    "print_my_country(country=\"Sweden\")\n",
    "print_my_country(country=\"India\")\n",
    "print_my_country()\n",
    "print_my_country(country=\"Brazil\")"
   ]
  },
  {
   "cell_type": "code",
   "execution_count": 4,
   "metadata": {},
   "outputs": [
    {
     "name": "stdout",
     "output_type": "stream",
     "text": [
      "['Banana', 'Cherry']\n"
     ]
    }
   ],
   "source": [
    "# The following example has a function with a list argument and returns a list\n",
    "def filter_out_apples(foods: list) -> list:\n",
    "    \"\"\"\n",
    "    This function will remove any apples from the list\n",
    "\n",
    "    :param foods: a list of various foods\n",
    "\n",
    "    :return: a list of foods that does contain apples\n",
    "    \"\"\"\n",
    "    newFoodList = []\n",
    "\n",
    "    for food in foods:\n",
    "        if str(food).lower() != \"apple\" and str(food).lower() != \"apples\":\n",
    "              newFoodList.append(str(food).capitalize())\n",
    "    \n",
    "    return newFoodList\n",
    "\n",
    "\n",
    "fruits = [\"Apple\", \"banAna\", \"CHerry\", \"aPPles\"]\n",
    "\n",
    "print(filter_out_apples(fruits))\n"
   ]
  },
  {
   "cell_type": "code",
   "execution_count": 5,
   "metadata": {},
   "outputs": [
    {
     "name": "stdout",
     "output_type": "stream",
     "text": [
      "Emil is one of my children!\n",
      "Tobias is one of my children!\n",
      "Linus is one of my children!\n",
      "\n",
      "<----------->\n",
      "\n",
      "Alice is one of my children!\n",
      "Bob is one of my children!\n",
      "Chad is one of my children!\n"
     ]
    }
   ],
   "source": [
    "# The following example has a function that can receive any amount of kids\n",
    "def list_children(*kids) -> None:\n",
    "    \"\"\"\n",
    "    This function prints all the children received in the kids argument\n",
    "\n",
    "    :param kids: multiple kids names\n",
    "    \"\"\"\n",
    "\n",
    "    for kid in kids:\n",
    "        print(str(kid).capitalize() + \" is one of my children!\")\n",
    "\n",
    "list_children(\"Emil\", \"ToBias\", \"linus\")\n",
    "\n",
    "print(\"\\n<----------->\\n\")\n",
    "\n",
    "# Another one to use the *kids argument\n",
    "childen = [\"AliCe\", \"Bob\", \"chad\"]\n",
    "list_children(*childen)\n"
   ]
  },
  {
   "cell_type": "code",
   "execution_count": 6,
   "metadata": {},
   "outputs": [
    {
     "name": "stdout",
     "output_type": "stream",
     "text": [
      "The kid's full name: Alice Smith\n",
      "The kid's phone number: 555-555-5555\n",
      "\n",
      "<----------->\n",
      "\n",
      "The kid's full name: Jane Doe\n",
      "The kid's email: example@test.com\n"
     ]
    }
   ],
   "source": [
    "# The following example has a function that can receive multiple fields for a kid\n",
    "def print_kid_details(**kid) -> None:\n",
    "    \"\"\"\n",
    "    This function prints the kid with all of the details provided\n",
    "\n",
    "    :param kid: a kid with varying details\n",
    "    \"\"\"\n",
    "    if kid.get(\"firstName\") and kid.get(\"lastName\"):\n",
    "        print(\"The kid's full name: \" + str(kid[\"firstName\"]).capitalize() + \" \" + str(kid[\"lastName\"]).capitalize())\n",
    "    if kid.get(\"phoneNumber\"):\n",
    "        print(\"The kid's phone number: \" + kid[\"phoneNumber\"])\n",
    "    if kid.get(\"email\"):\n",
    "        print(\"The kid's email: \" + kid[\"email\"])\n",
    "\n",
    "print_kid_details(firstName=\"Alice\", lastName=\"Smith\", phoneNumber=\"555-555-5555\")\n",
    "\n",
    "print(\"\\n<----------->\\n\")\n",
    "\n",
    "# Another one to use the *kids argument\n",
    "child = {\n",
    "    \"firstName\": \"JANe\", \n",
    "    \"lastName\": \"doe\", \n",
    "    \"email\": \"example@test.com\"\n",
    "}\n",
    "print_kid_details(**child)\n"
   ]
  }
 ],
 "metadata": {
  "kernelspec": {
   "display_name": "Python 3.9.13 ('base')",
   "language": "python",
   "name": "python3"
  },
  "language_info": {
   "codemirror_mode": {
    "name": "ipython",
    "version": 3
   },
   "file_extension": ".py",
   "mimetype": "text/x-python",
   "name": "python",
   "nbconvert_exporter": "python",
   "pygments_lexer": "ipython3",
   "version": "3.9.13"
  },
  "orig_nbformat": 4,
  "vscode": {
   "interpreter": {
    "hash": "f10c8b6b3442675f2168ea5ab9cc17f55f367a49f8a25aae955075d49e3dd3bf"
   }
  }
 },
 "nbformat": 4,
 "nbformat_minor": 2
}
