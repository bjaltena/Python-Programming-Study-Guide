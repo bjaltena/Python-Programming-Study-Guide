{
 "cells": [
  {
   "cell_type": "markdown",
   "metadata": {},
   "source": [
    "## IF STATEMENTS\n",
    "\n",
    "Conditional Logic:\n",
    "- \"==\" is equal to\n",
    "- \"!=\" is not equal to\n",
    "- \"<\" is less than\n",
    "- \">\" Is greater than\n",
    "- \"<=\" is less than or equal to\n",
    "- \">=\" is greater than or equal to\n",
    "- if you have an \"and\", both conditional statements have to be true to result in true, otherwise it is false\n",
    "- if you have an \"or\", as long as one of the conditional statements is true, it will result in true. If both are false, it results in false.\n",
    "- if you have a \"not\", if the condition is true it is changed to false, if the condition is false it is changed to true\n",
    "\n",
    "<br>\n",
    "\n",
    "Example Conditionals:\n",
    "- age >= 25\n",
    "- salary < 500\n",
    "- response == \"yes\"\n",
    "- response != \"yes\"     (!= is not equals)\n",
    "- response in (\"yes\", \"maybe\")\n",
    "\n",
    "<br>\n",
    "\n",
    "Example of a one-line if statement:\n",
    "- some_expression if condition else other_expression\n",
    "    - Example 1: print(\"you can rent a car!\") if age >= 25 else print(\"you cannot rent a car :(\")\n",
    "    - Example 2: rentACar = True if age >= 25 else False"
   ]
  },
  {
   "cell_type": "code",
   "execution_count": 1,
   "metadata": {},
   "outputs": [
    {
     "name": "stdout",
     "output_type": "stream",
     "text": [
      "you can rent a car!\n"
     ]
    }
   ],
   "source": [
    "# get the age of the user\n",
    "age = int(input(\"what is your age?\"))\n",
    "\n",
    "# check to see if the user can rent a car\n",
    "if age >= 25:\n",
    "    print (\"you can rent a car!\")\n",
    "elif age >= 18:\n",
    "    print (\"you can rent a car but pay a fee.\")\n",
    "else:\n",
    "    print (\"you cannot rent a car :(\")  \n",
    " "
   ]
  },
  {
   "cell_type": "code",
   "execution_count": 2,
   "metadata": {},
   "outputs": [
    {
     "name": "stdout",
     "output_type": "stream",
     "text": [
      "you are lower class, sorry.\n"
     ]
    }
   ],
   "source": [
    "# get the salary of the user\n",
    "salary = int(input(\"how much do you get paid?\"))\n",
    "\n",
    "# check to see what class the user falls under\n",
    "if salary >= 150000:\n",
    "    print (\"you are upper class\")\n",
    "elif salary >= 100000:\n",
    "    print (\"you are middle class\")\n",
    "else:\n",
    "    print (\"you are lower class, sorry.\")        "
   ]
  },
  {
   "cell_type": "code",
   "execution_count": 3,
   "metadata": {},
   "outputs": [
    {
     "name": "stdout",
     "output_type": "stream",
     "text": [
      "we have dogs to adopt.\n",
      "we have 7 dogs :D\n",
      "dogs are great!\n"
     ]
    }
   ],
   "source": [
    "# get the response from the user and change it to lower-case\n",
    "response = input(\"do you like dogs?\").lower()\n",
    "\n",
    "# if the user says yes or maybe, inform them that there are dogs to adopt, if they say anything else, inform them that there are cats to adopt\n",
    "if response == \"yes\" or response == \"maybe\":\n",
    "    print (\"we have dogs to adopt.\")\n",
    "else:\n",
    "    print (\"we have cats to adopt.\")    \n",
    "\n",
    "# check the response in a different way\n",
    "if response in (\"yes\", \"maybe\"):\n",
    "    print (\"we have 7 dogs :D\")\n",
    "else:\n",
    "    print (\"we have 26 cats :o\")  \n",
    "\n",
    "# check the response in a different way\n",
    "if response != \"yes\" and not response == \"maybe\":\n",
    "    print (\"cats are great!\")\n",
    "else:\n",
    "    print (\"dogs are great!\")\n"
   ]
  },
  {
   "cell_type": "code",
   "execution_count": 4,
   "metadata": {},
   "outputs": [
    {
     "name": "stdout",
     "output_type": "stream",
     "text": [
      "You may be Lizzie!\n",
      "Nice meeting you!\n"
     ]
    }
   ],
   "source": [
    "# COLOR CONSTANT VARIABLES\n",
    "COLOR_BLACK = \"BLACK\"\n",
    "COLOR_BROWN = \"BROWN\"\n",
    "COLOR_BLUE = \"BLUE\"\n",
    "\n",
    "# get the responses from the user and change them to upper-case\n",
    "hairColor = input(\"What color is your hair (brown or black)?\").upper()\n",
    "eyeColor = input(\"What color are your eyes (brown or blue)?\").upper()\n",
    "\n",
    "# check to see who this person is based on their hair and eye color\n",
    "if hairColor == COLOR_BLACK:\n",
    "    if eyeColor == COLOR_BROWN:\n",
    "        print(\"You may be Lizzie!\")\n",
    "    elif eyeColor == COLOR_BLUE:\n",
    "        print(\"You may be Ava!\")\n",
    "    else:\n",
    "        print(\"I'm not sure who you are.\")\n",
    "\n",
    "elif hairColor == COLOR_BROWN and eyeColor == COLOR_BLUE:\n",
    "    print(\"You may be Brett!\")\n",
    "\n",
    "else:\n",
    "    print(\"I'm not sure who you are.\")\n",
    "\n",
    "print(\"Nice meeting you!\") \n"
   ]
  },
  {
   "cell_type": "code",
   "execution_count": 5,
   "metadata": {},
   "outputs": [
    {
     "name": "stdout",
     "output_type": "stream",
     "text": [
      "Have a great day at work!\n"
     ]
    }
   ],
   "source": [
    "# Required library to work with dates\n",
    "from datetime import date\n",
    "\n",
    "# Get today's date\n",
    "today = date.today()\n",
    "\n",
    "# Check if today is a Monday\n",
    "if today.weekday() == 0:\n",
    "    isMonday = True\n",
    "\n",
    "    # get the response from the user and change it to lower-case\n",
    "    coffeeResponse = input(\"Did you make coffee today (yes or no)?\").lower()\n",
    "\n",
    "    # Set a boolean based on their answer\n",
    "    if coffeeResponse == \"yes\":\n",
    "        hasFreshCoffee = True\n",
    "    else:\n",
    "        hasFreshCoffee = False\n",
    "\n",
    "else: \n",
    "    isMonday = False\n",
    "\n",
    "# Complete code based on the weekday\n",
    "if isMonday:\n",
    "\n",
    "    # check if they made coffee today\n",
    "    if not hasFreshCoffee:\n",
    "        print(\"Go buy a coffee!\")\n",
    "\n",
    "    # print no matter the coffee status\n",
    "    print(\"I hate Mondays!\")\n",
    "\n",
    "# Print message for all weekdays\n",
    "print (\"Have a great day at work!\")\n",
    "\n",
    "\n"
   ]
  },
  {
   "cell_type": "code",
   "execution_count": 6,
   "metadata": {},
   "outputs": [
    {
     "name": "stdout",
     "output_type": "stream",
     "text": [
      "Total Charge: $15.00\n"
     ]
    }
   ],
   "source": [
    "# Retrieve the user's country and order total\n",
    "country = input (\"What country are you from?\").lower()\n",
    "orderTotal = float (input (\"What is your order total?\"))\n",
    "\n",
    "# Check the country entered\n",
    "if country == \"canada\":\n",
    "\n",
    "    # Retrieve the user's province\n",
    "     province = input (\"What province are you from?\").lower()\n",
    "\n",
    "     # 5% GST Added\n",
    "     if province == \"alberta\":\n",
    "         print (\"Total Charge (5 Percent GST): $%.2f\" % (orderTotal * 1.05))  \n",
    "\n",
    "    # 13% Harmonized Sales Tax Added\n",
    "     elif province == \"ontario\" or province == \"new brunswick\" or province == \"nova scotia\":\n",
    "         print (\"Total Charge (13 Percent Harmonized Sales Tax): $%.2f\" % (orderTotal * 1.13))    \n",
    "\n",
    "    # 6% Provincial Sales Tax + 5% GST Added\n",
    "     else:\n",
    "          print (\"Total Charge (11 Percent Sales Tax): $%.2f\" % (orderTotal * 1.11))    \n",
    "\n",
    "# Countries that are not Canada\n",
    "else:\n",
    "    print (\"Total Charge: $%.2f\" % orderTotal)    \n",
    "\n",
    "\n"
   ]
  },
  {
   "cell_type": "code",
   "execution_count": 7,
   "metadata": {},
   "outputs": [
    {
     "name": "stdout",
     "output_type": "stream",
     "text": [
      "Ha! Woodbury's name is based off a tree!\n"
     ]
    }
   ],
   "source": [
    "# If the state is Minnesota or Iowa, ask the user what city they live in\n",
    "# If the state is not Minnesota or Iowa, tell the user, I don't know about _____ (the state), have a good day there!\n",
    "# If the state was Minnesota and the city was Maplewood, Woodbury, or Oakdale, tell the user, Ha! ______'s (the city) name is based off a tree!\n",
    "# If the state was Iowa and the city was Ankeny, tell the user, Hey! I know someone who lives in ______ (the city)!\n",
    "# If the state was Minnesota or Iowa, and the city was different than the ones mentioned above, tell the user, Are you sure _____ (the city) is in _____ (the state)?\n",
    "\n",
    "\n",
    "state = input (\"what state do you live in?\").lower()\n",
    "\n",
    "if state == \"minnesota\" or state == \"iowa\":\n",
    "    city = input(\"what city do you live in?\").lower()\n",
    "\n",
    "    if state == \"minnesota\" and city in (\"maplewood\", \"woodbury\", \"oakdale\"):\n",
    "        print(\"Ha! \" + city.capitalize() + \"'s name is based off a tree!\")\n",
    "    elif state == \"iowa\" and city == \"ankeny\":\n",
    "        print(\"Hey! I know someone who lives in \" + city.capitalize() + \"!\")\n",
    "    else:\n",
    "        print(\"Are you sure \" + city.capitalize() + \" is in \" + state.capitalize() + \"?\")\n",
    "\n",
    "else:\n",
    "    print(\"I don't know about \" + state.capitalize() + \", have a good day there!\")\n"
   ]
  }
 ],
 "metadata": {
  "kernelspec": {
   "display_name": "Python 3.9.13 ('base')",
   "language": "python",
   "name": "python3"
  },
  "language_info": {
   "codemirror_mode": {
    "name": "ipython",
    "version": 3
   },
   "file_extension": ".py",
   "mimetype": "text/x-python",
   "name": "python",
   "nbconvert_exporter": "python",
   "pygments_lexer": "ipython3",
   "version": "3.9.13"
  },
  "orig_nbformat": 4,
  "vscode": {
   "interpreter": {
    "hash": "f10c8b6b3442675f2168ea5ab9cc17f55f367a49f8a25aae955075d49e3dd3bf"
   }
  }
 },
 "nbformat": 4,
 "nbformat_minor": 2
}
