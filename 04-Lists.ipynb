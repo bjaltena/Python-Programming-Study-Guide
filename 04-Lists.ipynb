{
 "cells": [
  {
   "cell_type": "markdown",
   "metadata": {},
   "source": [
    "## LISTS\n",
    "\n",
    "A list is a container for various objects such as strings, floats, ints, datetimes, or custom objects and this container can contain duplicate items.\n",
    "\n",
    "Standard List Methods:\n",
    "- list.count(2)\n",
    "    - returns the count how many times the input appears in the list\n",
    "- list.index(4)\n",
    "    - returns the location of where the input is located in the list\n",
    "- list.append(5)\n",
    "    - the input is the item you want to add to the end to the list\n",
    "- list.insert(0, 0)\n",
    "    - the first input is the location of where you want the second input to go into the list\n",
    "- list.pop()\n",
    "    - removes and returns the last item in the list\n",
    "- list.reverse()\n",
    "    - reverses the order of the items\n",
    "- list.sort()\n",
    "    - sorts the list in numerical or alphabetical order\n",
    "- list[3] = 10\n",
    "    - changes the item in the 3rd index to equal a new value\n",
    "- list.remove(10)\n",
    "    - removes the first instance of the input found in the list\n",
    "- list.clear()\n",
    "    - empties the contents of the list\n",
    "\n",
    "<br>\n",
    "\n",
    "Lists and Strings\n",
    "- list.split(\",\") changes a string into a list by creating an item per the delimiter (in this case separate the string by each comma)\n",
    "- \",\".join(list) takes a list and changes it into a string by seperating each item by the delimeter (in this case separate the items by a comma)\n",
    "- A one-line for loop can be used to transform each item in the list\n",
    "    - Example: names = [name.capitalize() for name in names]"
   ]
  },
  {
   "cell_type": "code",
   "execution_count": 1,
   "metadata": {},
   "outputs": [
    {
     "name": "stdout",
     "output_type": "stream",
     "text": [
      "Starting List: \t\t[1, 2, 3, 4]\n",
      "\n",
      "counting 2's: \t\t1\n",
      "index of 4: \t\t3\n",
      "After appending 5: \t[1, 2, 3, 4, 5]\n",
      "After inserting 0: \t[0, 1, 2, 3, 4, 5]\n",
      "After popping: \t\t[0, 1, 2, 3, 4]\n",
      "After reversing: \t[4, 3, 2, 1, 0]\n",
      "After sorting: \t\t[0, 1, 2, 3, 4]\n",
      "After [3] to 10: \t[0, 1, 2, 10, 4]\n",
      "After removing 10: \t[0, 1, 2, 4]\n",
      "After clearing: \t[]\n"
     ]
    }
   ],
   "source": [
    "list = [1, 2, 3, 4]\n",
    "\n",
    "print(\"Starting List: \\t\\t\" + str(list) + \"\\n\")\n",
    "\n",
    "# Functions that return values based on the list \n",
    "print(\"counting 2's: \\t\\t\" + str(list.count(2)))\n",
    "print(\"index of 4: \\t\\t\" + str(list.index(4)))\n",
    "\n",
    "# Functions that affect the items in the list\n",
    "list.append(5)\n",
    "print(\"After appending 5: \\t\" + str(list))\n",
    "list.insert(0, 0)\n",
    "print(\"After inserting 0: \\t\" + str(list))\n",
    "list.pop()\n",
    "print(\"After popping: \\t\\t\" + str(list))\n",
    "list.reverse()\n",
    "print(\"After reversing: \\t\" + str(list))\n",
    "list.sort()\n",
    "print(\"After sorting: \\t\\t\" + str(list))\n",
    "list[3] = 10\n",
    "print(\"After [3] to 10: \\t\" + str(list))\n",
    "list.remove(10)\n",
    "print(\"After removing 10: \\t\" + str(list))\n",
    "list.clear()\n",
    "print(\"After clearing: \\t\" + str(list))\n"
   ]
  }
 ],
 "metadata": {
  "kernelspec": {
   "display_name": "Python 3.9.13 ('base')",
   "language": "python",
   "name": "python3"
  },
  "language_info": {
   "codemirror_mode": {
    "name": "ipython",
    "version": 3
   },
   "file_extension": ".py",
   "mimetype": "text/x-python",
   "name": "python",
   "nbconvert_exporter": "python",
   "pygments_lexer": "ipython3",
   "version": "3.9.13"
  },
  "orig_nbformat": 4,
  "vscode": {
   "interpreter": {
    "hash": "f10c8b6b3442675f2168ea5ab9cc17f55f367a49f8a25aae955075d49e3dd3bf"
   }
  }
 },
 "nbformat": 4,
 "nbformat_minor": 2
}
